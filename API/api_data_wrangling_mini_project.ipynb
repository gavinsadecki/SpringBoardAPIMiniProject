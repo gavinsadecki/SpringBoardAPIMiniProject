{
 "cells": [
  {
   "cell_type": "markdown",
   "metadata": {},
   "source": [
    "This exercise will require you to pull some data from the Qunadl API. Qaundl is currently the most widely used aggregator of financial market data."
   ]
  },
  {
   "cell_type": "markdown",
   "metadata": {},
   "source": [
    "As a first step, you will need to register a free account on the http://www.quandl.com website."
   ]
  },
  {
   "cell_type": "markdown",
   "metadata": {},
   "source": [
    "After you register, you will be provided with a unique API key, that you should store:"
   ]
  },
  {
   "cell_type": "code",
   "execution_count": 1,
   "metadata": {},
   "outputs": [],
   "source": [
    "# Store the API key as a string - according to PEP8, constants are always named in all upper case\n",
    "#I removed my API key so that it's not publicly visible on GitHub\n",
    "API_KEY = 'PLACE API KEY HERE'"
   ]
  },
  {
   "cell_type": "markdown",
   "metadata": {},
   "source": [
    "Qaundl has a large number of data sources, but, unfortunately, most of them require a Premium subscription. Still, there are also a good number of free datasets."
   ]
  },
  {
   "cell_type": "markdown",
   "metadata": {},
   "source": [
    "For this mini project, we will focus on equities data from the Frankfurt Stock Exhange (FSE), which is available for free. We'll try and analyze the stock prices of a company called Carl Zeiss Meditec, which manufactures tools for eye examinations, as well as medical lasers for laser eye surgery: https://www.zeiss.com/meditec/int/home.html. The company is listed under the stock ticker AFX_X."
   ]
  },
  {
   "cell_type": "markdown",
   "metadata": {},
   "source": [
    "You can find the detailed Quandl API instructions here: https://docs.quandl.com/docs/time-series"
   ]
  },
  {
   "cell_type": "markdown",
   "metadata": {},
   "source": [
    "While there is a dedicated Python package for connecting to the Quandl API, we would prefer that you use the *requests* package, which can be easily downloaded using *pip* or *conda*. You can find the documentation for the package here: http://docs.python-requests.org/en/master/ "
   ]
  },
  {
   "cell_type": "markdown",
   "metadata": {},
   "source": [
    "Finally, apart from the *requests* package, you are encouraged to not use any third party Python packages, such as *pandas*, and instead focus on what's available in the Python Standard Library (the *collections* module might come in handy: https://pymotw.com/3/collections/ ).\n",
    "Also, since you won't have access to DataFrames, you are encouraged to us Python's native data structures - preferably dictionaries, though some questions can also be answered using lists.\n",
    "You can read more on these data structures here: https://docs.python.org/3/tutorial/datastructures.html"
   ]
  },
  {
   "cell_type": "markdown",
   "metadata": {},
   "source": [
    "Keep in mind that the JSON responses you will be getting from the API map almost one-to-one to Python's dictionaries. Unfortunately, they can be very nested, so make sure you read up on indexing dictionaries in the documentation provided above."
   ]
  },
  {
   "cell_type": "code",
   "execution_count": 2,
   "metadata": {},
   "outputs": [],
   "source": [
    "# First, import the relevant modules\n",
    "import requests\n",
    "import math"
   ]
  },
  {
   "cell_type": "code",
   "execution_count": 3,
   "metadata": {},
   "outputs": [],
   "source": [
    "# Now, call the Quandl API and pull out a small sample of the data (only one day) to get a glimpse\n",
    "# into the JSON structure that will be returned\n",
    "\n",
    "database_code = 'FSE'\n",
    "dataset_code = 'AFX_X'\n",
    "return_format = 'json'\n",
    "rows = 1\n",
    "\n",
    "url = f'https://www.quandl.com/api/v3/datasets/{database_code}/{dataset_code}/data.{return_format}?api_key={API_KEY}&rows={rows}'\n",
    "\n",
    "r = requests.get(url)"
   ]
  },
  {
   "cell_type": "code",
   "execution_count": 4,
   "metadata": {},
   "outputs": [
    {
     "name": "stdout",
     "output_type": "stream",
     "text": [
      "KEY: dataset_data\n",
      "DATA TYPE: <class 'dict'>\n",
      "\n",
      "dataset_data structure\n",
      "limit : 1\n",
      "transform : None\n",
      "column_index : None\n",
      "column_names : ['Date', 'Open', 'High', 'Low', 'Close', 'Change', 'Traded Volume', 'Turnover', 'Last Price of the Day', 'Daily Traded Units', 'Daily Turnover']\n",
      "start_date : 2000-06-07\n",
      "end_date : 2020-09-21\n",
      "frequency : daily\n",
      "data : [['2020-09-21', 101.0, 101.0, 97.6, 98.5, None, 223489.0, 22206443.95, None, None, None]]\n",
      "collapse : None\n",
      "order : None\n"
     ]
    }
   ],
   "source": [
    "# Inspect the JSON structure of the object you created, and take note of how nested it is,\n",
    "# as well as the overall structure\n",
    "json_data = r.json()\n",
    "\n",
    "for k in json_data.keys():\n",
    "    print('KEY: ' + k)\n",
    "    print('DATA TYPE: ' + str(type(json_data[k])))\n",
    "\n",
    "print('\\ndataset_data structure')\n",
    "for k in json_data['dataset_data']:\n",
    "    print(k + ' : ' + str(json_data['dataset_data'][k]))"
   ]
  },
  {
   "cell_type": "markdown",
   "metadata": {},
   "source": [
    "These are your tasks for this mini project:\n",
    "\n",
    "1. Collect data from the Franfurt Stock Exchange, for the ticker AFX_X, for the whole year 2017 (keep in mind that the date format is YYYY-MM-DD).\n",
    "2. Convert the returned JSON object into a Python dictionary.\n",
    "3. Calculate what the highest and lowest opening prices were for the stock in this period.\n",
    "4. What was the largest change in any one day (based on High and Low price)?\n",
    "5. What was the largest change between any two days (based on Closing Price)?\n",
    "6. What was the average daily trading volume during this year?\n",
    "7. (Optional) What was the median trading volume during this year. (Note: you may need to implement your own function for calculating the median.)"
   ]
  },
  {
   "cell_type": "code",
   "execution_count": 5,
   "metadata": {},
   "outputs": [
    {
     "name": "stdout",
     "output_type": "stream",
     "text": [
      "The type of data2017 is <class 'dict'>.\n",
      "The highest opening price was 53.11 and the lowest opening price was 34.0.\n",
      "The largest change of price in one day is 2.8100000000000023.\n",
      "The largest change of closing prices between two days is 2.559999999999995.\n",
      "The average trading volume value is 89124.33725490196\n",
      "The median trading volume value is 76286.0.\n"
     ]
    }
   ],
   "source": [
    "#1.) Collect data for the whole year of 2017\n",
    "\n",
    "#These are all the parameters that get fed into the formatted string 'url'\n",
    "#A get request is called on 'url' and stored into the value of 'r'\n",
    "database_code = 'FSE'\n",
    "dataset_code = 'AFX_X'\n",
    "return_format = 'json'\n",
    "start = '2017-01-01'\n",
    "end = '2017-12-31'\n",
    "\n",
    "url = f'https://www.quandl.com/api/v3/datasets/{database_code}/{dataset_code}/data.{return_format}?api_key={API_KEY}&start_date={start}&end_date={end}'\n",
    "r = requests.get(url)\n",
    "\n",
    "#2.) Turn the JSON object into a dictionary object\n",
    "\n",
    "#Using the json method, it converts the json data into a dict, that's stored into 'data2017'\n",
    "data2017 = r.json()['dataset_data']\n",
    "print(f'The type of data2017 is {str(type(data2017))}.')\n",
    "\n",
    "#3.) Calculate highest and lowest opening prices\n",
    "\n",
    "#A loop iterates through the data and stores all the valid open prices values into a list 'open_data'\n",
    "#max and min methods are called on the 'open_data' list to return the highest and lowest closing prices\n",
    "open_data = []\n",
    "for values in data2017['data']:\n",
    "    if values[1]:\n",
    "        open_data.append(values[1])\n",
    "        \n",
    "highest_open = max(open_data)\n",
    "lowest_open = min(open_data)\n",
    "print(f'The highest opening price was {highest_open} and the lowest opening price was {lowest_open}.')\n",
    "\n",
    "#4.) Largest change in one day(based on high and low)\n",
    "\n",
    "#A loop goes through the data and stores the difference of valid high and low values into a list.\n",
    "#max method is then called on the list to grab the largest change between high and low prices within a day\n",
    "changedata_high_low = []\n",
    "for values in data2017['data']:\n",
    "    if values[2] and values[3]:\n",
    "        changedata_high_low.append(values[2] - values[3])\n",
    "\n",
    "largestchange_high_low = max(changedata_high_low)\n",
    "print(f'The largest change of price in one day is {largestchange_high_low}.')\n",
    "\n",
    "#5.) Largest change between two days (based on closing price)\n",
    "\n",
    "#Starts by grabbing all the valid closing data and storing it into a list.\n",
    "#Then it iterates through this list and compares it to the following closing price.\n",
    "#It finds the difference between the two values, stor\n",
    "closing_data = []\n",
    "for values in data2017['data']:\n",
    "    if values[4]:\n",
    "        closing_data.append(values[4])\n",
    "\n",
    "changedata_closing = []\n",
    "for i in range(0,len(closing_data)-1):\n",
    "    changedata_closing.append(closing_data[i+1] - closing_data[i])\n",
    "\n",
    "largestchange_closing = max(changedata_closing)\n",
    "print(f'The largest change of closing prices between two days is {largestchange_closing}.')\n",
    "\n",
    "#6.) Average daily trading volume this year\n",
    "\n",
    "#Grabs all the volume values that are valid in the 2017 year data. The average is then calculated by taking the sum of the list and dividing by the length\n",
    "daily_volume = []\n",
    "for values in data2017['data']:\n",
    "    daily_volume.append(values[6])\n",
    "    \n",
    "averagevalue = sum(daily_volume)/len(daily_volume)\n",
    "print(f'The average trading volume value is {averagevalue}')\n",
    "\n",
    "#7.) Median trading volume this year\n",
    "\n",
    "#Median function takes a list of values as an input\n",
    "#The median is the middle value of a set of numbers\n",
    "#This function starts by sorting the list\n",
    "#It then takes the length of the list, subtracts 1 to make sure it corresponds to appropriate indexes\n",
    "#It splits that value in half and checks if it's an int or a float\n",
    "#If it's an int, the median value is just whatever the index is\n",
    "#If it's a float, it takes the lower index value and the upper and finds the average(middle value) between the two\n",
    "def Median(values) :\n",
    "\n",
    "    values.sort()\n",
    "    length = len(values)-1\n",
    "    medianindex = length/2\n",
    "    medianindexint = int(medianindex)\n",
    "\n",
    "    \n",
    "    if medianindexint == medianindex:\n",
    "        return values[medianindexint]\n",
    "    else:\n",
    "        lowerindex = math.floor(medianindex)\n",
    "        upperindex = math.ceil(medianindex)\n",
    "        return (values[lowerindex] + values[upperindex]) / 2\n",
    "\n",
    "medianvalue = Median(daily_volume)\n",
    "print(f'The median trading volume value is {medianvalue}.')"
   ]
  }
 ],
 "metadata": {
  "kernelspec": {
   "display_name": "Python 3",
   "language": "python",
   "name": "python3"
  },
  "language_info": {
   "codemirror_mode": {
    "name": "ipython",
    "version": 3
   },
   "file_extension": ".py",
   "mimetype": "text/x-python",
   "name": "python",
   "nbconvert_exporter": "python",
   "pygments_lexer": "ipython3",
   "version": "3.8.3"
  }
 },
 "nbformat": 4,
 "nbformat_minor": 4
}
